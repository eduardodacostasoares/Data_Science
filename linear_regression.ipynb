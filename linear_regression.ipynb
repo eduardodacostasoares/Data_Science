{
  "nbformat": 4,
  "nbformat_minor": 0,
  "metadata": {
    "colab": {
      "name": "linear_regression.ipynb",
      "provenance": [],
      "authorship_tag": "ABX9TyMEpaCBdBhnZHF05mK0PwgD",
      "include_colab_link": true
    },
    "kernelspec": {
      "name": "python3",
      "display_name": "Python 3"
    },
    "language_info": {
      "name": "python"
    }
  },
  "cells": [
    {
      "cell_type": "markdown",
      "metadata": {
        "id": "view-in-github",
        "colab_type": "text"
      },
      "source": [
        "<a href=\"https://colab.research.google.com/github/eduardodacostasoares/Data_Science/blob/master/linear_regression.ipynb\" target=\"_parent\"><img src=\"https://colab.research.google.com/assets/colab-badge.svg\" alt=\"Open In Colab\"/></a>"
      ]
    },
    {
      "cell_type": "markdown",
      "source": [
        "#**LINEAR REGRESSION (BOSTON)**#"
      ],
      "metadata": {
        "id": "pPBWEnGE_z9a"
      }
    },
    {
      "cell_type": "markdown",
      "source": [
        "Comparing Linear Regression, the LASSO and the Ridge."
      ],
      "metadata": {
        "id": "RrsXGvoQMD0g"
      }
    },
    {
      "cell_type": "markdown",
      "source": [
        "####**Database:** Boston housing dataset####\n",
        "\n",
        "https://www.kaggle.com/schirmerchad/bostonhoustingmlnd/version/1"
      ],
      "metadata": {
        "id": "voA2HDVxMh_a"
      }
    },
    {
      "cell_type": "code",
      "source": [
        ""
      ],
      "metadata": {
        "colab": {
          "base_uri": "https://localhost:8080/"
        },
        "id": "9Gl-b1alWk1J",
        "outputId": "cfe5576a-2f7f-40ec-876e-320fdd13f0d0"
      },
      "execution_count": 4,
      "outputs": [
        {
          "output_type": "stream",
          "name": "stdout",
          "text": [
            "ERROR: unknown command \"upgrade\"\n"
          ]
        }
      ]
    },
    {
      "cell_type": "code",
      "source": [
        "from sklearn.datasets import load_boston\n",
        "from sklearn.model_selection import train_test_split\n",
        "from sklearn.preprocessing import MinMaxScaler, PolynomialFeatures\n",
        "from sklearn.linear_model import LinearRegression, Ridge, Lasso\n",
        "\n",
        "import numpy as np\n",
        "import matplotlib.pyplot as plt\n"
      ],
      "metadata": {
        "id": "ejtDYPXc_yHF"
      },
      "execution_count": 11,
      "outputs": []
    },
    {
      "cell_type": "markdown",
      "source": [
        "***PolynomialFeatures()***: Generate a new feature matrix consisting of all polynomial combinations of the features with degree less than or equal to the specified degree."
      ],
      "metadata": {
        "id": "oE-srqdaQ7gt"
      }
    },
    {
      "cell_type": "code",
      "execution_count": 12,
      "metadata": {
        "colab": {
          "base_uri": "https://localhost:8080/"
        },
        "id": "0UQnz4vD_wfu",
        "outputId": "2230a91b-6bd4-4705-d8e3-f8852a9cda82"
      },
      "outputs": [
        {
          "output_type": "stream",
          "name": "stdout",
          "text": [
            "Number of attributes (originally):\n",
            "(506, 13)\n",
            "Polynomial Features (redundants attributes):\n",
            "(506, 104)\n"
          ]
        }
      ],
      "source": [
        "boston = load_boston()\n",
        "X = boston.data\n",
        "print(\"Number of attributes (originally):\")\n",
        "print(X.shape)\n",
        "\n",
        "X = MinMaxScaler().fit_transform(boston.data)\n",
        "X = PolynomialFeatures(degree=2, include_bias=False).fit_transform(X)\n",
        "\n",
        "print(\"Polynomial Features (redundants attributes):\")\n",
        "print(X.shape)\n",
        "\n",
        "y = boston.target"
      ]
    },
    {
      "cell_type": "markdown",
      "source": [
        "##**Steps to induct the model:**##\n",
        "\n",
        "1.   **To instance the model**: LinearRegression\n",
        "2.   **To train the model**: fit()\n",
        "\n",
        "The *score()* method returns the prediction coefficient R²."
      ],
      "metadata": {
        "id": "uLbHBIbLYg8F"
      }
    },
    {
      "cell_type": "code",
      "source": [
        "X_train, X_test, y_train, y_test = train_test_split(X, y, random_state=0)\n",
        "lr = LinearRegression().fit(X_train, y_train)\n",
        "\n",
        "print(\"Linear Regression (with redundants attributes):\")\n",
        "print(\"Train base accuracy: {:.2f}\".format(lr.score(X_train, y_train)))\n",
        "print(\"Test base accuracy: {:.2f}\".format(lr.score(X_test, y_test)))"
      ],
      "metadata": {
        "colab": {
          "base_uri": "https://localhost:8080/"
        },
        "id": "JnGp0NBYYgGU",
        "outputId": "d1af38bc-b094-4c64-8d7b-03017fb9aee2"
      },
      "execution_count": 13,
      "outputs": [
        {
          "output_type": "stream",
          "name": "stdout",
          "text": [
            "Linear Regression (with redundants attributes):\n",
            "Train base accuracy: 0.95\n",
            "Test base accuracy: 0.61\n"
          ]
        }
      ]
    },
    {
      "cell_type": "markdown",
      "source": [
        "**RIDGE**\n",
        "\n",
        "- Is a linear regression that adds a regularization penalty to the loss function during training (also called \"*L2 regularization*\").\n",
        "\n",
        "- Attribute \"*alpha*\" indicates the \"regularization strength\" (must be a positive float). Larger values specify a strtonger regularization. "
      ],
      "metadata": {
        "id": "0YWMe_kzZjgV"
      }
    },
    {
      "cell_type": "code",
      "source": [
        "ridge = Ridge().fit(X_train, y_train)\n",
        "print(\"Ridge (Alpha) = 1.0\")\n",
        "print(\"Train base accuracy: {:.2f}\".format(ridge.score(X_train, y_train)))\n",
        "print(\"Test base accuracy: {:.2f}\\n\".format(ridge.score(X_test, y_test)))\n",
        "\n",
        "ridge10 = Ridge(alpha=10).fit(X_train, y_train)\n",
        "print(\"Ridge (Alpha) = 10\")\n",
        "print(\"Train base accuracy: {:.2f}\".format(ridge.score(X_train, y_train)))\n",
        "print(\"Test base accuracy: {:.2f}\\n\".format(ridge.score(X_test, y_test)))\n",
        "\n",
        "ridge01 = Ridge(alpha=0.1).fit(X_train, y_train)\n",
        "print(\"Ridge (Alpha) = 0.1\")\n",
        "print(\"Train base accuracy: {:.2f}\".format(ridge.score(X_train, y_train)))\n",
        "print(\"Test base accuracy: {:.2f}\".format(ridge.score(X_test, y_test)))"
      ],
      "metadata": {
        "colab": {
          "base_uri": "https://localhost:8080/"
        },
        "id": "PUwGYM87eoSN",
        "outputId": "414c93f8-9aeb-4543-e487-51612c2ed5ec"
      },
      "execution_count": 17,
      "outputs": [
        {
          "output_type": "stream",
          "name": "stdout",
          "text": [
            "Ridge (Alpha) = 1.0\n",
            "Train base accuracy: 0.89\n",
            "Test base accuracy: 0.75\n",
            "\n",
            "Ridge (Alpha) = 10\n",
            "Train base accuracy: 0.89\n",
            "Test base accuracy: 0.75\n",
            "\n",
            "Ridge (Alpha) = 0.1\n",
            "Train base accuracy: 0.89\n",
            "Test base accuracy: 0.75\n"
          ]
        }
      ]
    },
    {
      "cell_type": "markdown",
      "source": [
        "**LASSO**\n",
        "\n",
        "- Is a linear model that estimates sparse coefficients. It is useful in some contexts due to its tendency to prefer solutions with fewer non-zero coefficients, effectively reducing the number of features upon which the given solution is dependent (also called \"*L1 regularization*\").\n",
        "\n",
        "- Attribute \"*alpha*\" indicates the \"regularization strength\" (must be a positive float). Larger values specify a strtonger regularization. "
      ],
      "metadata": {
        "id": "HwDksvW3rgkU"
      }
    },
    {
      "cell_type": "code",
      "source": [
        "lasso = Lasso().fit(X_train, y_train)\n",
        "print(\"Lasso (Alpha) = 1.0\")\n",
        "print(\"Train base accuracy: {:.2f}\".format(lasso.score(X_train, y_train)))\n",
        "print(\"Test base accuracy: {:.2f}\".format(lasso.score(X_test, y_test)))\n",
        "print(\"Used attributes: {}\\n\".format(np.sum(lasso.coef_ != 0)))\n",
        "\n",
        "lasso001 = Lasso(alpha=0.01, max_iter=100000).fit(X_train, y_train)\n",
        "print(\"Lasso (Alpha) = 0.01\")\n",
        "print(\"Train base accuracy: {:.2f}\".format(lasso001.score(X_train, y_train)))\n",
        "print(\"Test base accuracy: {:.2f}\\n\".format(lasso001.score(X_test, y_test)))\n",
        "print(\"Used attributes: {}\\n\".format(np.sum(lasso001.coef_ != 0)))\n",
        "\n",
        "lasso00001 = Lasso(alpha=0.0001, max_iter=100000).fit(X_train, y_train)\n",
        "print(\"Lasso (Alpha) = 0.0001\")\n",
        "print(\"Train base accuracy: {:.2f}\".format(lasso00001.score(X_train, y_train)))\n",
        "print(\"Test base accuracy: {:.2f}\".format(lasso00001.score(X_test, y_test)))\n",
        "print(\"Used attributes: {}\\n\".format(np.sum(lasso00001.coef_ != 0)))"
      ],
      "metadata": {
        "colab": {
          "base_uri": "https://localhost:8080/"
        },
        "id": "W76yWpFPqXk3",
        "outputId": "a98d52b0-89bf-4da3-8e7a-45add87e198a"
      },
      "execution_count": 18,
      "outputs": [
        {
          "output_type": "stream",
          "name": "stdout",
          "text": [
            "Lasso (Alpha) = 1.0\n",
            "Train base accuracy: 0.29\n",
            "Test base accuracy: 0.21\n",
            "Used attributes: 4\n",
            "\n",
            "Lasso (Alpha) = 0.01\n",
            "Train base accuracy: 0.90\n",
            "Test base accuracy: 0.77\n",
            "\n",
            "Used attributes: 33\n",
            "\n",
            "Lasso (Alpha) = 0.0001\n",
            "Train base accuracy: 0.95\n",
            "Test base accuracy: 0.64\n",
            "Used attributes: 96\n",
            "\n"
          ]
        }
      ]
    },
    {
      "cell_type": "markdown",
      "source": [
        "##**RIDGE X LASSO**##"
      ],
      "metadata": {
        "id": "AknwjueT1gwM"
      }
    },
    {
      "cell_type": "code",
      "source": [
        "plt.figure(figsize=(9,6))\n",
        "plt.plot(lasso.coef_, 's', label=\"Lasso alpha = 1\")\n",
        "plt.plot(lasso001.coef_, '^', label=\"Lasso alpha = 0.01\")\n",
        "plt.plot(lasso00001.coef_, 'v', label=\"Lasso alpha = 0.0001\")\n",
        "plt.plot(ridge01.coef_, 'o', label=\"Ridge alpha = 0.1\")\n",
        "\n",
        "plt.legend(ncol=2, loc=(0, 1.05))\n",
        "plt.ylim(-25,25)\n",
        "plt.xlabel(\"Coefficient\")\n",
        "plt.ylabel(\"Magnitude\")"
      ],
      "metadata": {
        "colab": {
          "base_uri": "https://localhost:8080/",
          "height": 456
        },
        "id": "cU4swPU608rW",
        "outputId": "e4d8a827-7f17-4cd9-f36d-6c8cfffc0314"
      },
      "execution_count": 19,
      "outputs": [
        {
          "output_type": "execute_result",
          "data": {
            "text/plain": [
              "Text(0, 0.5, 'Magnitude')"
            ]
          },
          "metadata": {},
          "execution_count": 19
        },
        {
          "output_type": "display_data",
          "data": {
            "image/png": "[encoded data removed]",
            "text/plain": [
              "<Figure size 648x432 with 1 Axes>"
            ]
          },
          "metadata": {
            "needs_background": "light"
          }
        }
      ]
    },
    {
      "cell_type": "code",
      "source": [
        ""
      ],
      "metadata": {
        "id": "4eL6UtUp93xX"
      },
      "execution_count": null,
      "outputs": []
    }
  ]
}