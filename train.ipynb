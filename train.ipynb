{
  "nbformat": 4,
  "nbformat_minor": 0,
  "metadata": {
    "colab": {
      "name": "aula2.ipynb",
      "provenance": [],
      "collapsed_sections": [],
      "authorship_tag": "ABX9TyNjCDLnc4daZHU4RFduKUIL",
      "include_colab_link": true
    },
    "kernelspec": {
      "name": "python3",
      "display_name": "Python 3"
    },
    "language_info": {
      "name": "python"
    }
  },
  "cells": [
    {
      "cell_type": "markdown",
      "metadata": {
        "id": "view-in-github",
        "colab_type": "text"
      },
      "source": [
        "<a href=\"https://colab.research.google.com/github/eduardodacostasoares/Data_Science/blob/master/train.ipynb\" target=\"_parent\"><img src=\"https://colab.research.google.com/assets/colab-badge.svg\" alt=\"Open In Colab\"/></a>"
      ]
    },
    {
      "cell_type": "markdown",
      "source": [
        "#**Transformando Variáveis**#"
      ],
      "metadata": {
        "id": "skWa1Vfza32t"
      }
    },
    {
      "cell_type": "markdown",
      "source": [
        ""
      ],
      "metadata": {
        "id": "-IfxuMwCbKFf"
      }
    },
    {
      "cell_type": "markdown",
      "source": [
        "##**Bibliotecas**##\n",
        "\n",
        "**1) Numpy**: biblioteca de álgebra linear do Python\n",
        "\n",
        "**2) Pandas**: biblioteca de manipulação de Dataframes\n",
        "\n",
        "**3) Pyplot**: biblioteca de visualização de dados\n",
        "\n",
        "**4) Seaborn**: outra biblioteca de visualização de dados"
      ],
      "metadata": {
        "id": "uEd0EaszbKKY"
      }
    },
    {
      "cell_type": "code",
      "source": [
        "import numpy as np\n",
        "import pandas as pd\n",
        "import matplotlib.pyplot as plt\n",
        "import seaborn as sns\n",
        "\n",
        "from sklearn.model_selection import train_test_split #particionamento da base de dados em DADOS DE TREINO e DADOS DE TESTE\n",
        "from sklearn import preprocessing\n",
        "from sklearn.linear_model import LinearRegression\n",
        "\n",
        "np.set_printoptions(threshold=None,precision=2)\n",
        "pd.set_option('display.max_columns', 500)\n",
        "pd.set_option('display.max_rows', 500)\n",
        "pd.set_option('precision', 2)"
      ],
      "metadata": {
        "id": "2NBYg-YqbaFE"
      },
      "execution_count": 1,
      "outputs": []
    },
    {
      "cell_type": "markdown",
      "source": [
        "##**Base de dados do Titanic**##\n",
        "   - Encontrada no Kaggle\n",
        "   \n",
        "\n",
        "###DESCRIÇÃO DOS ATRIBUTOS###\n",
        "- **survival** = Sobrevivente (0=Não; 1=Sim)\n",
        "- **pclass**   = Classe do passageiro (1 = 1ª Classe; 2 = 2ª Classe; 3 = 3ª Classe)\n",
        "- **name** = Nome(str)\n",
        "- **age** = idade(int)\n",
        "- **sex** = Sexo (M; F)\n",
        "- **sibsp** = número de irmãos/cônjuges a bordo\n",
        "- **parch** = número de pais e filhos\n",
        "- **ticket** = número do bilhete\n",
        "- **fare** = tarifa do passageiro\n",
        "- **cabin** = cabine\n",
        "- **embarked** = embarque (C = Cherbourg; Q = Queenstown; S = Southampton).\n",
        "\n"
      ],
      "metadata": {
        "id": "HYaD5g_gfPzb"
      }
    },
    {
      "cell_type": "markdown",
      "source": [
        "###**Upload de arquivos**###"
      ],
      "metadata": {
        "id": "12ku5vecjCa5"
      }
    },
    {
      "cell_type": "code",
      "source": [
        "from google.colab import files\n",
        "\n",
        "uploaded = files.upload()"
      ],
      "metadata": {
        "colab": {
          "base_uri": "https://localhost:8080/",
          "height": 74,
          "resources": {
            "http://localhost:8080/nbextensions/google.colab/files.js": {
              "data": "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",
              "ok": true,
              "headers": [
                [
                  "content-type",
                  "application/javascript"
                ]
              ],
              "status": 200,
              "status_text": ""
            }
          }
        },
        "id": "gruEbc5mjNzH",
        "outputId": "902bbb55-b568-4494-a271-7d6f1bd8a48a"
      },
      "execution_count": 2,
      "outputs": [
        {
          "output_type": "display_data",
          "data": {
            "text/html": [
              "\n",
              "     <input type=\"file\" id=\"files-6a569cb8-6e14-4d8d-9373-ce4717b43de9\" name=\"files[]\" multiple disabled\n",
              "        style=\"border:none\" />\n",
              "     <output id=\"result-6a569cb8-6e14-4d8d-9373-ce4717b43de9\">\n",
              "      Upload widget is only available when the cell has been executed in the\n",
              "      current browser session. Please rerun this cell to enable.\n",
              "      </output>\n",
              "      <script src=\"/nbextensions/google.colab/files.js\"></script> "
            ],
            "text/plain": [
              "<IPython.core.display.HTML object>"
            ]
          },
          "metadata": {}
        },
        {
          "output_type": "stream",
          "name": "stdout",
          "text": [
            "Saving train.csv to train.csv\n"
          ]
        }
      ]
    },
    {
      "cell_type": "code",
      "source": [
        "titanic_train = pd.read_csv(next(iter(uploaded.keys())))\n",
        "\n",
        "print(\"\\nDimensões de Titanic:\\n{0}\\n\".format(titanic_train.shape))\n",
        "print('\\nCampos de Titanic:\\n{0}\\n'.format(list(titanic_train.keys())))\n",
        "print(\"\\nTipos de dados:\\n{0}\\n\".format(titanic_train.dtypes))"
      ],
      "metadata": {
        "colab": {
          "base_uri": "https://localhost:8080/"
        },
        "id": "6MASnWg7M0H9",
        "outputId": "c312eb84-b591-4637-e9d1-8bb3e6d49155"
      },
      "execution_count": 3,
      "outputs": [
        {
          "output_type": "stream",
          "name": "stdout",
          "text": [
            "\n",
            "Dimensões de Titanic:\n",
            "(891, 12)\n",
            "\n",
            "\n",
            "Campos de Titanic:\n",
            "['PassengerId', 'Survived', 'Pclass', 'Name', 'Sex', 'Age', 'SibSp', 'Parch', 'Ticket', 'Fare', 'Cabin', 'Embarked']\n",
            "\n",
            "\n",
            "Tipos de dados:\n",
            "PassengerId      int64\n",
            "Survived         int64\n",
            "Pclass           int64\n",
            "Name            object\n",
            "Sex             object\n",
            "Age            float64\n",
            "SibSp            int64\n",
            "Parch            int64\n",
            "Ticket          object\n",
            "Fare           float64\n",
            "Cabin           object\n",
            "Embarked        object\n",
            "dtype: object\n",
            "\n"
          ]
        }
      ]
    },
    {
      "cell_type": "markdown",
      "source": [
        "##**ESTATÍSTICA DESCRITIVA DOS DADOS**##\n",
        "\n",
        "O comando **describe** exibe prioritariamente os campos numéricos. Deve-se isolar os campos categóricos para serem exibidos posteriormente."
      ],
      "metadata": {
        "id": "-qCpsibCONFQ"
      }
    },
    {
      "cell_type": "code",
      "source": [
        "# Exibe apenas os campos numéricos:\n",
        "\n",
        "print(titanic_train.describe())\n",
        "\n",
        "# Para se ter uma visão dos atributos categórios, os atributos numéricos são\n",
        "# descartados.\n",
        "\n",
        "categ = titanic_train.dtypes[titanic_train.dtypes == \"object\"].index\n",
        "\n",
        "print(\"\\n\", titanic_train[categ].describe(), sep='\\n')"
      ],
      "metadata": {
        "colab": {
          "base_uri": "https://localhost:8080/"
        },
        "id": "Gjony4dIO77k",
        "outputId": "8d4cc47c-46b9-4939-b333-a6c825131b82"
      },
      "execution_count": 4,
      "outputs": [
        {
          "output_type": "stream",
          "name": "stdout",
          "text": [
            "       PassengerId  Survived  Pclass     Age   SibSp   Parch    Fare\n",
            "count       891.00    891.00  891.00  714.00  891.00  891.00  891.00\n",
            "mean        446.00      0.38    2.31   29.70    0.52    0.38   32.20\n",
            "std         257.35      0.49    0.84   14.53    1.10    0.81   49.69\n",
            "min           1.00      0.00    1.00    0.42    0.00    0.00    0.00\n",
            "25%         223.50      0.00    2.00   20.12    0.00    0.00    7.91\n",
            "50%         446.00      0.00    3.00   28.00    0.00    0.00   14.45\n",
            "75%         668.50      1.00    3.00   38.00    1.00    0.00   31.00\n",
            "max         891.00      1.00    3.00   80.00    8.00    6.00  512.33\n",
            "\n",
            "\n",
            "                                                Name   Sex  Ticket Cabin  \\\n",
            "count                                            891   891     891   204   \n",
            "unique                                           891     2     681   147   \n",
            "top     Jerwan, Mrs. Amin S (Marie Marthe Thuillard)  male  347082    G6   \n",
            "freq                                               1   577       7     4   \n",
            "\n",
            "       Embarked  \n",
            "count       889  \n",
            "unique        3  \n",
            "top           S  \n",
            "freq        644  \n"
          ]
        }
      ]
    },
    {
      "cell_type": "markdown",
      "source": [
        "##**REMOÇÃO DE ATRIBUTOS IRRELEVANTES**##\n",
        "\n",
        "Os atributos **survival** (objetivo ou label), e atributos que descrevem os passageiros ou os agrupam em categorias são úteis e serão mantidos, por exemplo: **Pclass**, **Sex**, **Age**, **SibSp**, **Parch**, **Fare** e **Embarked**.\n",
        "\n",
        "\n",
        "\n",
        "*   **passengerId** é apenas uma chave primária para identificar um passageiro, e não é relevante para o problema.\n",
        "*   **Name** não é útil para a previsão, mas pode ser útil para a identificação dos registros ou pós-processamento (por exemplo, extrair o último nome).\n",
        "*   **Ticket** não identifica o registro e nem descreve o passageiro, por isso, deve ser removido.\n",
        "*   **Cabin** não identifica bem os passageiros, mas, pode ser útil utilizarmos o padrão \"Letra + número\", para descrever os passageiros pelo andar do local da cabine.  "
      ],
      "metadata": {
        "id": "kmSpxY8hPvuE"
      }
    },
    {
      "cell_type": "code",
      "source": [
        "del titanic_train[\"PassengerId\"]\n",
        "del titanic_train[\"Ticket\"]\n",
        "\n",
        "# o número de atributos foi reduzido para 10\n",
        "\n",
        "print(\"\\nDimensões de Titanic:\\n{0}\\n\".format(titanic_train.shape))"
      ],
      "metadata": {
        "colab": {
          "base_uri": "https://localhost:8080/"
        },
        "id": "pIMezfXhPOSU",
        "outputId": "0f3b6a16-33bf-49fa-d29f-ab97774b0152"
      },
      "execution_count": 5,
      "outputs": [
        {
          "output_type": "stream",
          "name": "stdout",
          "text": [
            "\n",
            "Dimensões de Titanic:\n",
            "(891, 10)\n",
            "\n"
          ]
        }
      ]
    },
    {
      "cell_type": "markdown",
      "source": [
        "##**TRANSFORMAÇÕES DE DADOS**##\n",
        "\n",
        "**Converter numérico em categórico**.\n",
        "\n",
        "Variáveis categóricas codificadas numericamente possuem baixa legibilidade. Portanto, podem ser candidatas a serem recodificadas."
      ],
      "metadata": {
        "id": "SbOyJwrNYZwe"
      }
    },
    {
      "cell_type": "code",
      "source": [
        "new_survived = pd.Categorical(titanic_train[\"Survived\"])\n",
        "new_survived = new_survived.rename_categories([\"Morreu\", \"Sobreviveu\"])\n",
        "titanic_train[\"Survived\"] = new_survived\n",
        "\n",
        "new_Pclass = pd.Categorical(titanic_train[\"Pclass\"], ordered=True)\n",
        "new_Pclass = new_Pclass.rename_categories([\"1a Classe\",\"2a Classe\",\"3a Classe\"])\n",
        "titanic_train[\"Pclass\"] = new_Pclass\n",
        "\n",
        "print(\"\\nTipos dos dados:\\n{0}\\n\".format(titanic_train.dtypes))\n",
        "categ = titanic_train.dtypes[titanic_train.dtypes == \"category\"].index\n",
        "print(\"\\n\", titanic_train[categ].describe(), sep='\\n')"
      ],
      "metadata": {
        "colab": {
          "base_uri": "https://localhost:8080/"
        },
        "id": "rzxZBrzCYRTk",
        "outputId": "8b660420-9109-48af-d2fb-90b10c78e7da"
      },
      "execution_count": 6,
      "outputs": [
        {
          "output_type": "stream",
          "name": "stdout",
          "text": [
            "\n",
            "Tipos dos dados:\n",
            "Survived    category\n",
            "Pclass      category\n",
            "Name          object\n",
            "Sex           object\n",
            "Age          float64\n",
            "SibSp          int64\n",
            "Parch          int64\n",
            "Fare         float64\n",
            "Cabin         object\n",
            "Embarked      object\n",
            "dtype: object\n",
            "\n",
            "\n",
            "\n",
            "       Survived     Pclass\n",
            "count       891        891\n",
            "unique        2          3\n",
            "top      Morreu  3a Classe\n",
            "freq        549        491\n"
          ]
        }
      ]
    },
    {
      "cell_type": "markdown",
      "source": [
        "##**Convertendo atributos através do processamento de *strings*. (Usando *list comprehension*)**\n",
        "\n",
        "No atributo *Cabin*, parece que o padrão \"Letra + Número\" indica que a cabine pertence a algum andar, ou nível. Podemos agrupar o atributo *Cabin* pela letra inicial da *Cabin*. Podemos agrupar o atributo *Cabin* pela letra inicial da cabine."
      ],
      "metadata": {
        "id": "0ntv30YUoj-y"
      }
    },
    {
      "cell_type": "code",
      "source": [
        "# Exibe os valores\n",
        "print(\"\\nValores únicos do atributo Cabin:\", titanic_train[\"Cabin\"].unique(), sep='\\n')\n",
        "\n",
        "#Converte o dado para String\n",
        "char_cabin = titanic_train[\"Cabin\"].astype(str)\n",
        "\n",
        "#Pega apenas a primeira letra\n",
        "new_cabin = pd.Categorical([cabin[0] for cabin in char_cabin]) #list comprehension\n",
        "titanic_train[\"Cabin\"] = new_cabin\n",
        "\n",
        "print(\"\\nValores únicos do atributo Cabin:\", titanic_train[\"Cabin\"].unique(), sep='\\n')\n"
      ],
      "metadata": {
        "id": "uzLNFxX8iPSF",
        "colab": {
          "base_uri": "https://localhost:8080/"
        },
        "outputId": "c2376dd7-f9e4-4924-b13e-9926217cb989"
      },
      "execution_count": 7,
      "outputs": [
        {
          "output_type": "stream",
          "name": "stdout",
          "text": [
            "\n",
            "Valores únicos do atributo Cabin:\n",
            "[nan 'C85' 'C123' 'E46' 'G6' 'C103' 'D56' 'A6' 'C23 C25 C27' 'B78' 'D33'\n",
            " 'B30' 'C52' 'B28' 'C83' 'F33' 'F G73' 'E31' 'A5' 'D10 D12' 'D26' 'C110'\n",
            " 'B58 B60' 'E101' 'F E69' 'D47' 'B86' 'F2' 'C2' 'E33' 'B19' 'A7' 'C49'\n",
            " 'F4' 'A32' 'B4' 'B80' 'A31' 'D36' 'D15' 'C93' 'C78' 'D35' 'C87' 'B77'\n",
            " 'E67' 'B94' 'C125' 'C99' 'C118' 'D7' 'A19' 'B49' 'D' 'C22 C26' 'C106'\n",
            " 'C65' 'E36' 'C54' 'B57 B59 B63 B66' 'C7' 'E34' 'C32' 'B18' 'C124' 'C91'\n",
            " 'E40' 'T' 'C128' 'D37' 'B35' 'E50' 'C82' 'B96 B98' 'E10' 'E44' 'A34'\n",
            " 'C104' 'C111' 'C92' 'E38' 'D21' 'E12' 'E63' 'A14' 'B37' 'C30' 'D20' 'B79'\n",
            " 'E25' 'D46' 'B73' 'C95' 'B38' 'B39' 'B22' 'C86' 'C70' 'A16' 'C101' 'C68'\n",
            " 'A10' 'E68' 'B41' 'A20' 'D19' 'D50' 'D9' 'A23' 'B50' 'A26' 'D48' 'E58'\n",
            " 'C126' 'B71' 'B51 B53 B55' 'D49' 'B5' 'B20' 'F G63' 'C62 C64' 'E24' 'C90'\n",
            " 'C45' 'E8' 'B101' 'D45' 'C46' 'D30' 'E121' 'D11' 'E77' 'F38' 'B3' 'D6'\n",
            " 'B82 B84' 'D17' 'A36' 'B102' 'B69' 'E49' 'C47' 'D28' 'E17' 'A24' 'C50'\n",
            " 'B42' 'C148']\n",
            "\n",
            "Valores únicos do atributo Cabin:\n",
            "['n', 'C', 'E', 'G', 'D', 'A', 'B', 'F', 'T']\n",
            "Categories (9, object): ['n', 'C', 'E', 'G', ..., 'A', 'B', 'F', 'T']\n"
          ]
        }
      ]
    },
    {
      "cell_type": "markdown",
      "source": [
        "##**TRATANDO VALORES OMISSOS OU INCONSISTENTES**##\n",
        "\n",
        "Em atributos numéricos, as possibilidades são:\n",
        "\n",
        "\n",
        "\n",
        "**1.**   substituir por zeros;\n",
        "\n",
        "**2.**   substituir por um valor médio ou mediano;\n",
        "\n",
        "**3.**   estimar valores usando métodos estatísticos ou preditivos;\n",
        "\n",
        "**4.**   particionar a base em: registros completos e registros incompletos.\n",
        "\n",
        "****\n",
        "Abaixo será analisado o atributo **Age** para tratar os valores omissos.\n",
        "\n"
      ],
      "metadata": {
        "id": "ZENL0u_PbWKX"
      }
    },
    {
      "cell_type": "code",
      "source": [
        "titanic_train.hist(column='Age',  # coluna a ser plotada\n",
        "                   figsize=(9,6), # tamanho do gráfico\n",
        "                   bins=20)       # número de colunas do histograma"
      ],
      "metadata": {
        "colab": {
          "base_uri": "https://localhost:8080/",
          "height": 425
        },
        "id": "_HvmPEroJoul",
        "outputId": "010c51d8-0494-4533-8da4-02cbde9154fb"
      },
      "execution_count": 8,
      "outputs": [
        {
          "output_type": "execute_result",
          "data": {
            "text/plain": [
              "array([[<matplotlib.axes._subplots.AxesSubplot object at 0x7f1505b96ed0>]],\n",
              "      dtype=object)"
            ]
          },
          "metadata": {},
          "execution_count": 8
        },
        {
          "output_type": "display_data",
          "data": {
            "image/png": "[encoded data removed]",
            "text/plain": [
              "<Figure size 648x432 with 1 Axes>"
            ]
          },
          "metadata": {
            "needs_background": "light"
          }
        }
      ]
    },
    {
      "cell_type": "markdown",
      "source": [
        "O dado da coluna **Age** possui uma distribuição próxima da **Distribuição Normal** (ou **Gaussiana**)"
      ],
      "metadata": {
        "id": "hc2bQqhaglxt"
      }
    },
    {
      "cell_type": "code",
      "source": [
        "mediana = np.median([el for el in titanic_train[\"Age\"] if (np.isnan(el) == False)])\n",
        "\n",
        "new_age = np.where(titanic_train[\"Age\"].isnull(), # condição (\"Onde o valor de 'AGE' for \"NULL\")\n",
        "                   mediana,                     # Valor a ser substituído, se a condição for VERDADEIRA\n",
        "                   titanic_train[\"Age\"])        # Valor a ser substituído, se a condição for FALSA\n",
        "\n",
        "titanic_train[\"Age\"] = new_age\n",
        "\n",
        "print(\"\\nAnálise do novo atributo Age:\")\n",
        "print(titanic_train[\"Age\"].describe())\n",
        "\n",
        "titanic_train.hist(column='Age',  # coluna a ser plotada\n",
        "                   figsize=(9,6), # tamanho do gráfico\n",
        "                   bins=20)       # número de colunas do histograma"
      ],
      "metadata": {
        "colab": {
          "base_uri": "https://localhost:8080/",
          "height": 615
        },
        "id": "Lc1XPzDmgkOp",
        "outputId": "21dce923-95e7-4424-bb02-1d9cec0e775a"
      },
      "execution_count": 9,
      "outputs": [
        {
          "output_type": "stream",
          "name": "stdout",
          "text": [
            "\n",
            "Análise do novo atributo Age:\n",
            "count    891.00\n",
            "mean      29.36\n",
            "std       13.02\n",
            "min        0.42\n",
            "25%       22.00\n",
            "50%       28.00\n",
            "75%       35.00\n",
            "max       80.00\n",
            "Name: Age, dtype: float64\n"
          ]
        },
        {
          "output_type": "execute_result",
          "data": {
            "text/plain": [
              "array([[<matplotlib.axes._subplots.AxesSubplot object at 0x7f1505aae950>]],\n",
              "      dtype=object)"
            ]
          },
          "metadata": {},
          "execution_count": 9
        },
        {
          "output_type": "display_data",
          "data": {
            "image/png": "[encoded data removed]",
            "text/plain": [
              "<Figure size 648x432 with 1 Axes>"
            ]
          },
          "metadata": {
            "needs_background": "light"
          }
        }
      ]
    },
    {
      "cell_type": "markdown",
      "source": [
        "###**DETECTANDO OUTLIERS**###\n",
        "\n",
        "*Outliers* são valores extremos. A estatística descritiva, em geral, provê um bom indicativo da presença de *Outliers*, com valores máximo e mínimo muito distantes; o valor da média muito próximo de um máximo ou de um mínimo, mostrando um problema de distribuição de dados."
      ],
      "metadata": {
        "id": "tMmcWUSB0I-q"
      }
    },
    {
      "cell_type": "code",
      "source": [
        "titanic_train[\"Fare\"].plot(kind=\"box\", figsize =(9,9))\n",
        "\n",
        "index = np.where(titanic_train[\"Fare\"] == max(titanic_train[\"Fare\"]))\n",
        "\n",
        "print(\"Registro com valores extremos:\", titanic_train.loc[index], sep='\\n')"
      ],
      "metadata": {
        "id": "pDaEEyMzsSpR",
        "colab": {
          "base_uri": "https://localhost:8080/",
          "height": 710
        },
        "outputId": "e0cd8329-0ba5-4765-a94a-0d13ce6c376d"
      },
      "execution_count": 11,
      "outputs": [
        {
          "output_type": "stream",
          "name": "stdout",
          "text": [
            "Registro com valores extremos:\n",
            "       Survived     Pclass                                Name     Sex   Age  \\\n",
            "258  Sobreviveu  1a Classe                    Ward, Miss. Anna  female  35.0   \n",
            "679  Sobreviveu  1a Classe  Cardeza, Mr. Thomas Drake Martinez    male  36.0   \n",
            "737  Sobreviveu  1a Classe              Lesurer, Mr. Gustave J    male  35.0   \n",
            "\n",
            "     SibSp  Parch    Fare Cabin Embarked  \n",
            "258      0      0  512.33     n        C  \n",
            "679      0      1  512.33     B        C  \n",
            "737      0      0  512.33     B        C  \n"
          ]
        },
        {
          "output_type": "display_data",
          "data": {
            "image/png": "[encoded data removed]",
            "text/plain": [
              "<Figure size 648x648 with 1 Axes>"
            ]
          },
          "metadata": {
            "needs_background": "light"
          }
        }
      ]
    },
    {
      "cell_type": "markdown",
      "source": [
        "###**CRIANDO NOVOS ATRIBUTOS**###\n",
        "\n",
        "Vai ser criada uma nova variável (***Family***), que irá reunir cônjuge e irmãos (***SibSp***) com pais e filhos (***Parch***). "
      ],
      "metadata": {
        "id": "UbeetcIaWQCa"
      }
    },
    {
      "cell_type": "code",
      "source": [
        "titanic_train[\"Family\"] = titanic_train[\"SibSp\"] + titanic_train[\"Parch\"]\n",
        "\n",
        "# Encontrando quem tem a maior família a bordo\n",
        "\n",
        "most_family = np.where(titanic_train[\"Family\"] == max(titanic_train[\"Family\"]))\n",
        "\n",
        "print(\"\\nAs maiores famílias à bordo:\\n\\n{0}\".format(titanic_train.loc[most_family]))"
      ],
      "metadata": {
        "colab": {
          "base_uri": "https://localhost:8080/"
        },
        "id": "0tl1ItkM4qwz",
        "outputId": "4a13c6ba-69c0-4ed1-f39e-11018b1fd2ab"
      },
      "execution_count": 13,
      "outputs": [
        {
          "output_type": "stream",
          "name": "stdout",
          "text": [
            "\n",
            "As maiores famílias à bordo:\n",
            "\n",
            "    Survived     Pclass                               Name     Sex   Age  \\\n",
            "159   Morreu  3a Classe         Sage, Master. Thomas Henry    male  28.0   \n",
            "180   Morreu  3a Classe       Sage, Miss. Constance Gladys  female  28.0   \n",
            "201   Morreu  3a Classe                Sage, Mr. Frederick    male  28.0   \n",
            "324   Morreu  3a Classe           Sage, Mr. George John Jr    male  28.0   \n",
            "792   Morreu  3a Classe            Sage, Miss. Stella Anna  female  28.0   \n",
            "846   Morreu  3a Classe           Sage, Mr. Douglas Bullen    male  28.0   \n",
            "863   Morreu  3a Classe  Sage, Miss. Dorothy Edith \"Dolly\"  female  28.0   \n",
            "\n",
            "     SibSp  Parch   Fare Cabin Embarked  Family  \n",
            "159      8      2  69.55     n        S      10  \n",
            "180      8      2  69.55     n        S      10  \n",
            "201      8      2  69.55     n        S      10  \n",
            "324      8      2  69.55     n        S      10  \n",
            "792      8      2  69.55     n        S      10  \n",
            "846      8      2  69.55     n        S      10  \n",
            "863      8      2  69.55     n        S      10  \n"
          ]
        }
      ]
    },
    {
      "cell_type": "markdown",
      "source": [
        "Os atributos, agora, estão muito redundantes, ou muito \"correlacionados\", como podemos ver na matriz de correlação. A matriz só funciona com tipos de dados numéricos. Será possível perceber que a variável *Family* terá forte correlação (acima de 0.75) com *SibSp* e *Parch*."
      ],
      "metadata": {
        "id": "zeQNUxqUZBWH"
      }
    },
    {
      "cell_type": "code",
      "source": [
        "int_fields = titanic_train.dtypes[titanic_train.dtypes == \"int64\"].index\n",
        "corr = np.corrcoef(titanic_train[int_fields].transpose())\n",
        "correlacao = pd.DataFrame(data=corr, index=int_fields, columns=int_fields)\n",
        "\n",
        "print(\"\\nMatriz de correlação dos atributos inteiros: \\n{0}\".format(correlacao))"
      ],
      "metadata": {
        "colab": {
          "base_uri": "https://localhost:8080/"
        },
        "id": "PKFpnvzaYrg1",
        "outputId": "1ae7095a-0dc7-45d4-a565-8e7d739fa253"
      },
      "execution_count": 14,
      "outputs": [
        {
          "output_type": "stream",
          "name": "stdout",
          "text": [
            "\n",
            "Matriz de correlação dos atributos inteiros: \n",
            "        SibSp  Parch  Family\n",
            "SibSp    1.00   0.41    0.89\n",
            "Parch    0.41   1.00    0.78\n",
            "Family   0.89   0.78    1.00\n"
          ]
        }
      ]
    }
  ]
}