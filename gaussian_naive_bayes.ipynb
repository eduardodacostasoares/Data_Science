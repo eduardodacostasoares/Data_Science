{
  "nbformat": 4,
  "nbformat_minor": 0,
  "metadata": {
    "colab": {
      "name": "Untitled11.ipynb",
      "provenance": [],
      "authorship_tag": "ABX9TyPVZa3WWLSJk7pt9HSVtEAu",
      "include_colab_link": true
    },
    "kernelspec": {
      "name": "python3",
      "display_name": "Python 3"
    },
    "language_info": {
      "name": "python"
    }
  },
  "cells": [
    {
      "cell_type": "markdown",
      "metadata": {
        "id": "view-in-github",
        "colab_type": "text"
      },
      "source": [
        "<a href=\"https://colab.research.google.com/github/eduardodacostasoares/Data_Science/blob/master/gaussian_naive_bayes.ipynb\" target=\"_parent\"><img src=\"https://colab.research.google.com/assets/colab-badge.svg\" alt=\"Open In Colab\"/></a>"
      ]
    },
    {
      "cell_type": "markdown",
      "source": [
        "#**Naïve Bayes**#"
      ],
      "metadata": {
        "id": "Xcfqgfu1UTFW"
      }
    },
    {
      "cell_type": "markdown",
      "source": [
        "##**Splitting data in train set and test set**##\n",
        "\n",
        "train_test_split(X, y): split data in Train set and test set. By default, \n",
        "**75%** are used to **train**; and **25%** are used to test. "
      ],
      "metadata": {
        "id": "dkyZUU7jU3-b"
      }
    },
    {
      "cell_type": "code",
      "source": [
        "import pandas as pd\n",
        "from sklearn.datasets import load_iris\n",
        "from sklearn.model_selection import train_test_split\n",
        "from sklearn.naive_bayes import GaussianNB\n",
        "from sklearn.metrics import confusion_matrix, classification_report"
      ],
      "metadata": {
        "id": "yCmS-es2UzmB"
      },
      "execution_count": 3,
      "outputs": []
    },
    {
      "cell_type": "code",
      "source": [
        "iris = load_iris()\n",
        "\n",
        "X_train, X_test, y_train, y_test = train_test_split(iris['data'], iris['target'],\n",
        "                                                    random_state=0)"
      ],
      "metadata": {
        "id": "t1p5OhOGVnv0"
      },
      "execution_count": 4,
      "outputs": []
    },
    {
      "cell_type": "markdown",
      "source": [
        "**Gaussian Naïves Bayes model induction**\n",
        "\n",
        "-An algorithm to induct a model, by numeric data (*continuous*)."
      ],
      "metadata": {
        "id": "qCFcy6U9WbUF"
      }
    },
    {
      "cell_type": "markdown",
      "source": [
        "###**3 steps to induct a model**:###\n",
        "\n",
        "1.   **Instance the model**: *GaussianNB()*\n",
        "2.   **Traine the model**: *fit()*\n",
        "3.   **Test the model**: *predict()*\n",
        "\n",
        "\n",
        "\n"
      ],
      "metadata": {
        "id": "ySUWGSTvhpuY"
      }
    },
    {
      "cell_type": "code",
      "source": [
        "gnb = GaussianNB() #To make easier to write the code :D \n",
        "y_pred = gnb.fit(X_train, y_train).predict(X_test)\n",
        "\n",
        "print(\"Número de erros de classificação {0} e {1}\"    #to count the wrong predictions of the model.\n",
        "      .format((y_test != y_pred).sum(), iris.data.shape[0]))\n",
        "\n",
        "ac = gnb.score(X_test, y_test) #Model accuracy\n",
        "\n",
        "print(\"\\nModel Accuracy: {0:.2f}%\\n\".format(100*ac))\n",
        "\n",
        "print(classification_report(y_test, y_pred, target_names=iris.target_names))\n",
        "\n",
        "cnf_matrix = confusion_matrix(y_test, y_pred)\n",
        "cnf_table = pd.DataFrame(data=cnf_matrix, index=iris.target_names, columns=[x+ \"(prev)\" for x in iris.target_names])\n",
        "\n",
        "print(cnf_table)\n"
      ],
      "metadata": {
        "colab": {
          "base_uri": "https://localhost:8080/"
        },
        "id": "DJrTSjaRhirh",
        "outputId": "2a32b797-c747-4394-8afa-5e69c05c4eaa"
      },
      "execution_count": 5,
      "outputs": [
        {
          "output_type": "stream",
          "name": "stdout",
          "text": [
            "Número de erros de classificação 0 e 150\n",
            "\n",
            "Model Accuracy: 100.00%\n",
            "\n",
            "              precision    recall  f1-score   support\n",
            "\n",
            "      setosa       1.00      1.00      1.00        13\n",
            "  versicolor       1.00      1.00      1.00        16\n",
            "   virginica       1.00      1.00      1.00         9\n",
            "\n",
            "    accuracy                           1.00        38\n",
            "   macro avg       1.00      1.00      1.00        38\n",
            "weighted avg       1.00      1.00      1.00        38\n",
            "\n",
            "            setosa(prev)  versicolor(prev)  virginica(prev)\n",
            "setosa                13                 0                0\n",
            "versicolor             0                16                0\n",
            "virginica              0                 0                9\n"
          ]
        }
      ]
    },
    {
      "cell_type": "code",
      "source": [
        ""
      ],
      "metadata": {
        "id": "sdh9KSRfmMpG"
      },
      "execution_count": null,
      "outputs": []
    }
  ]
}